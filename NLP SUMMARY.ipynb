{
 "cells": [
  {
   "cell_type": "code",
   "execution_count": 18,
   "id": "fa1384dc",
   "metadata": {},
   "outputs": [],
   "source": [
    "import docx2txt\n",
    "from nltk.corpus import stopwords\n",
    "from nltk.tokenize import word_tokenize, sent_tokenize\n"
   ]
  },
  {
   "cell_type": "code",
   "execution_count": 19,
   "id": "b95fad5b",
   "metadata": {},
   "outputs": [],
   "source": [
    "def word_file_summary(file_path, summary_length):\n",
    "    # Read the Word file\n",
    "    text = docx2txt.process(file_path)\n",
    "\n",
    "    # Tokenize the text into sentences\n",
    "    sentences = sent_tokenize(text)\n",
    "\n",
    "    # Create a frequency table to keep track of word occurrences\n",
    "    stop_words = set(stopwords.words('english'))\n",
    "    word_frequencies = {}\n",
    "    for sentence in sentences:\n",
    "        words = word_tokenize(sentence.lower())\n",
    "        for word in words:\n",
    "            if word not in stop_words:\n",
    "                if word not in word_frequencies:\n",
    "                    word_frequencies[word] = 1\n",
    "                else:\n",
    "                    word_frequencies[word] += 1\n",
    "\n",
    "    # Calculate sentence scores based on word frequencies\n",
    "    sentence_scores = {}\n",
    "    for sentence in sentences:\n",
    "        words = word_tokenize(sentence.lower())\n",
    "        for word in words:\n",
    "            if word in word_frequencies:\n",
    "                if sentence not in sentence_scores:\n",
    "                    sentence_scores[sentence] = word_frequencies[word]\n",
    "                else:\n",
    "                    sentence_scores[sentence] += word_frequencies[word]\n",
    "\n",
    "    # Sort sentences based on scores\n",
    "    sorted_sentences = sorted(sentence_scores, key=sentence_scores.get, reverse=True)\n",
    "\n",
    "    # Generate the summary by selecting sentences until the desired length is reached\n",
    "    summary = \"\"\n",
    "    word_count = 0\n",
    "    for sentence in sorted_sentences:\n",
    "        word_tokens = word_tokenize(sentence)\n",
    "        word_count += len(word_tokens)\n",
    "        if word_count <= summary_length:\n",
    "            summary += sentence + \" \"\n",
    "        else:\n",
    "            break\n",
    "\n",
    "    return summary"
   ]
  },
  {
   "cell_type": "code",
   "execution_count": 20,
   "id": "b2fa299d",
   "metadata": {},
   "outputs": [
    {
     "name": "stdout",
     "output_type": "stream",
     "text": [
      "Mayan inscriptions adorn the walls of temples, stelae (stone monuments), ceramics, and codices, offering a glimpse into their culture, history, and cosmology. While challenges remain in fully deciphering the script and preserving indigenous languages, ongoing efforts to explore, document, and revitalize Mayan languages ensure that this remarkable cultural legacy will endure for generations to come, allowing us to connect with the ancient Mayans on a profound linguistic and cultural level. The Mayan civilization flourished in Mesoamerica, encompassing present-day Mexico, Guatemala, Belize, Honduras, and El Salvador. Cultural Significance and Legacy: The Mayan language, both ancient and modern, serves as a conduit for preserving and transmitting Mayan culture, traditions, and knowledge. Indigenous communities, scholars, and organizations work collaboratively to develop language programs, create educational materials, and establish cultural centers to ensure the survival and flourishing of Mayan languages. Furthermore, understanding the Mayan language enhances our comprehension of Mayan architecture, mathematics, astronomy, and religious practices. \n"
     ]
    }
   ],
   "source": [
    "# Provide the path to your Word file\n",
    "file_path = 'C:/Users/harsh/Desktop/The ancient Mayans.docx'\n",
    "\n",
    "# Call the function to generate the summary\n",
    "summary = word_file_summary(file_path, summary_length=200)\n",
    "\n",
    "# Print the summary\n",
    "print(summary)"
   ]
  },
  {
   "cell_type": "code",
   "execution_count": null,
   "id": "64813978",
   "metadata": {},
   "outputs": [],
   "source": []
  }
 ],
 "metadata": {
  "kernelspec": {
   "display_name": "Python 3 (ipykernel)",
   "language": "python",
   "name": "python3"
  },
  "language_info": {
   "codemirror_mode": {
    "name": "ipython",
    "version": 3
   },
   "file_extension": ".py",
   "mimetype": "text/x-python",
   "name": "python",
   "nbconvert_exporter": "python",
   "pygments_lexer": "ipython3",
   "version": "3.10.9"
  }
 },
 "nbformat": 4,
 "nbformat_minor": 5
}
